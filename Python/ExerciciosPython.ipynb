{
 "cells": [
  {
   "cell_type": "markdown",
   "metadata": {},
   "source": [
    "## Função EX1"
   ]
  },
  {
   "cell_type": "code",
   "execution_count": 24,
   "metadata": {},
   "outputs": [
    {
     "name": "stdout",
     "output_type": "stream",
     "text": [
      "15\n"
     ]
    }
   ],
   "source": [
    "#funcao\n",
    "def soma_nat(n):\n",
    "    soma = 0\n",
    "    while(n > 0):\n",
    "        soma = soma + n\n",
    "        n = n - int(1)\n",
    "    return soma\n",
    "\n",
    "class Just:\n",
    "    \n",
    "    def __init__(self,end):\n",
    "        \n",
    "        self.end = end\n",
    "    def bind(self,fnc):\n",
    "        try:\n",
    "            return Just(fnc(self.end))\n",
    "        except:\n",
    "            return Nothing()\n",
    "        \n",
    "    def __repr__(self):\n",
    "        \n",
    "        return str(self.end)\n",
    "class Nothing:\n",
    "    \n",
    "    def bind(self,fnc):\n",
    "        \n",
    "        return Nothing()\n",
    "    \n",
    "    def __repr__(self):\n",
    "        \n",
    "        return 'Nothing'\n",
    "    \n",
    "print (soma_nat(5))\n"
   ]
  },
  {
   "cell_type": "markdown",
   "metadata": {},
   "source": [
    "## lambda e maybe monad: EX1 "
   ]
  },
  {
   "cell_type": "code",
   "execution_count": 25,
   "metadata": {},
   "outputs": [
    {
     "name": "stdout",
     "output_type": "stream",
     "text": [
      "15.0\n",
      "15.0\n"
     ]
    }
   ],
   "source": [
    "#lambda\n",
    "soma_nat_lambda = lambda end: ((end)/2) * (end+1)\n",
    "\n",
    "\n",
    "#Maybe monad\n",
    "def soma_nat_maybe(end):\n",
    "    return ((end)/2) * (end+1)\n",
    "\n",
    "\n",
    "print (soma_nat_lambda(5))\n",
    "\n",
    "print(Just(5).bind(soma_nat_maybe))"
   ]
  },
  {
   "cell_type": "markdown",
   "metadata": {},
   "source": [
    "## função: EX 2 "
   ]
  },
  {
   "cell_type": "code",
   "execution_count": 30,
   "metadata": {},
   "outputs": [
    {
     "name": "stdout",
     "output_type": "stream",
     "text": [
      "120\n"
     ]
    }
   ],
   "source": [
    "#funcao\n",
    "def prod_lista(lista):\n",
    "    soma = 1\n",
    "    for i in lista:\n",
    "        soma = soma * i\n",
    "    return soma\n",
    "\n",
    "class Just:\n",
    "    \n",
    "    def __init__(self,x):\n",
    "        \n",
    "        self.x = x\n",
    "    def bind(self,fnc):\n",
    "        try:\n",
    "            return Just(fnc(self.x))\n",
    "        except:\n",
    "            return Nothing()\n",
    "        \n",
    "    def __repr__(self):\n",
    "        \n",
    "        return str(self.x)\n",
    "class Nothing:\n",
    "    \n",
    "    def bind(self,fnc):\n",
    "        \n",
    "        return Nothing()\n",
    "    \n",
    "    def __repr__(self):\n",
    "        \n",
    "        return 'Nothing'\n",
    "    \n",
    "print (prod_lista([1,2,3,4,5]))"
   ]
  },
  {
   "cell_type": "markdown",
   "metadata": {},
   "source": [
    "## lambda e maybe monad: EX 2 "
   ]
  },
  {
   "cell_type": "code",
   "execution_count": 31,
   "metadata": {},
   "outputs": [
    {
     "name": "stdout",
     "output_type": "stream",
     "text": [
      "120\n",
      "120\n"
     ]
    }
   ],
   "source": [
    "#lambda\n",
    "import operator\n",
    "from functools import reduce\n",
    "prod_lista_lambda = lambda x: reduce(operator.mul, x, 1)\n",
    "\n",
    "\n",
    "#Maybe monad\n",
    "def soma_list_maybe(x):\n",
    "    return reduce(operator.mul, x, 1)\n",
    "\n",
    "print (prod_lista_lambda([1,2,3,4,5])) \n",
    "\n",
    "print (Just([1,2,3,4,5]).bind(soma_list_maybe))\n"
   ]
  },
  {
   "cell_type": "markdown",
   "metadata": {},
   "source": [
    "## Função: Ex3 "
   ]
  },
  {
   "cell_type": "code",
   "execution_count": 32,
   "metadata": {},
   "outputs": [
    {
     "name": "stdout",
     "output_type": "stream",
     "text": [
      "True\n",
      "True\n",
      "False\n"
     ]
    }
   ],
   "source": [
    "#funcao\n",
    "def parQ(lista):\n",
    "    if len(lista)%2==0:\n",
    "        return True\n",
    "    else:\n",
    "        return False\n",
    "    \n",
    "class Just:\n",
    "    \n",
    "    def __init__(self,lista):\n",
    "        \n",
    "        self.lista = lista\n",
    "    def bind(self,fnc):\n",
    "        try:\n",
    "            return Just(fnc(self.lista))\n",
    "        except:\n",
    "            return Nothing()\n",
    "        \n",
    "    def __repr__(self):\n",
    "        \n",
    "        return str(self.lista)\n",
    "class Nothing:\n",
    "    \n",
    "    def bind(self,fnc):\n",
    "        \n",
    "        return Nothing()\n",
    "    \n",
    "    def __repr__(self):\n",
    "        \n",
    "        return 'Nothing'\n",
    "    \n",
    "print (parQ([2,3,1,2,3,4]))\n",
    "print (parQ([1,3,5,7]))\n",
    "print (parQ([1,3,5,7,9]))"
   ]
  },
  {
   "cell_type": "markdown",
   "metadata": {},
   "source": [
    "## Lambda e  monad EX 3 "
   ]
  },
  {
   "cell_type": "code",
   "execution_count": 33,
   "metadata": {},
   "outputs": [
    {
     "name": "stdout",
     "output_type": "stream",
     "text": [
      "False\n",
      "False\n"
     ]
    }
   ],
   "source": [
    "#lambda\n",
    "parQ_lambda = lambda lista: True if (len(lista) % 2 == 0) else False\n",
    "\n",
    "\n",
    "#Maybe monad\n",
    "def parQ_maybe(lista):\n",
    "    return True if (len(lista) % 2 == 0) else False\n",
    "\n",
    "print (parQ_lambda([1,2,3,4,5]))\n",
    "\n",
    "print(Just([1,2,3,4,5]).bind(parQ_maybe))"
   ]
  },
  {
   "cell_type": "markdown",
   "metadata": {},
   "source": [
    "## Função EX 4 "
   ]
  },
  {
   "cell_type": "code",
   "execution_count": 34,
   "metadata": {},
   "outputs": [
    {
     "name": "stdout",
     "output_type": "stream",
     "text": [
      "True\n",
      "False\n",
      "False\n"
     ]
    }
   ],
   "source": [
    "#Funcao\n",
    "def todos_imparesQ(lista):\n",
    "    retorno = False\n",
    "    for i in lista:\n",
    "        \n",
    "        if i%2 > 0:\n",
    "            retorno = True\n",
    "        else:\n",
    "            retorno = False\n",
    "            break\n",
    "    return retorno\n",
    "\n",
    "\n",
    "class Just:\n",
    "    \n",
    "    def __init__(self,lista):\n",
    "        \n",
    "        self.lista = lista\n",
    "    def bind(self,fnc):\n",
    "        try:\n",
    "            return Just(fnc(self.lista))\n",
    "        except:\n",
    "            return Nothing()\n",
    "        \n",
    "    def __repr__(self):\n",
    "        \n",
    "        return str(self.lista)\n",
    "class Nothing:\n",
    "    \n",
    "    def bind(self,fnc):\n",
    "        \n",
    "        return Nothing()\n",
    "    \n",
    "    def __repr__(self):\n",
    "        \n",
    "        return 'Nothing'\n",
    "    \n",
    "print (todos_imparesQ([1,3,5,7]))\n",
    "print (todos_imparesQ([]))\n",
    "print (todos_imparesQ([1,2,3,4,5]))"
   ]
  },
  {
   "cell_type": "markdown",
   "metadata": {},
   "source": [
    "## Lambda e monad Ex 4 "
   ]
  },
  {
   "cell_type": "code",
   "execution_count": 35,
   "metadata": {},
   "outputs": [
    {
     "name": "stdout",
     "output_type": "stream",
     "text": [
      "True\n",
      "True\n"
     ]
    }
   ],
   "source": [
    "\n",
    "\n",
    "#lambda\n",
    "todos_imparesQ_lambda = lambda lista: True if len([x for x in lista if x % 2 != 0])==len(lista) else False\n",
    "\n",
    "#Maybe monad\n",
    "def todos_imparesQ_maybe(lista):\n",
    "    return True if len([x for x in lista if x % 2 != 0])==len(lista) else False\n",
    "\n",
    "print (todos_imparesQ_lambda([1,3,5]))\n",
    "\n",
    "print(Just([1,3,5]).bind(todos_imparesQ_maybe))"
   ]
  },
  {
   "cell_type": "markdown",
   "metadata": {},
   "source": [
    "## Função EX 5 "
   ]
  },
  {
   "cell_type": "code",
   "execution_count": 41,
   "metadata": {},
   "outputs": [],
   "source": [
    "#funcao\n",
    "def inverteLista(w):\n",
    "    w = w[::-1]\n",
    "    return w\n",
    "\n",
    "class Just:\n",
    "    \n",
    "    def __init__(self,w):\n",
    "        \n",
    "        self.w = w\n",
    "    def bind(self,fnc):\n",
    "        try:\n",
    "            return Just(fnc(self.w))\n",
    "        except:\n",
    "            return Nothing()\n",
    "        \n",
    "    def __repr__(self):\n",
    "        \n",
    "        return str(self.w)\n",
    "class Nothing:\n",
    "    \n",
    "    def bind(self,fnc):\n",
    "        \n",
    "        return Nothing()\n",
    "    \n",
    "    def __repr__(self):\n",
    "        \n",
    "        return 'Nothing'\n",
    "\n"
   ]
  },
  {
   "cell_type": "markdown",
   "metadata": {},
   "source": [
    "## Lambda e monad EX 5 "
   ]
  },
  {
   "cell_type": "code",
   "execution_count": 42,
   "metadata": {},
   "outputs": [
    {
     "name": "stdout",
     "output_type": "stream",
     "text": [
      "[5, 3, 1]\n"
     ]
    }
   ],
   "source": [
    "\n",
    "#lambda\n",
    "inverteLista_lambda = lambda w: w[::-1]\n",
    "\n",
    "\n",
    "#Maybe monad\n",
    "def inverteLista_maybe(w):\n",
    "    w = w[::-1]\n",
    "    return w\n",
    "\n",
    "\n",
    "\n",
    "print(Just([1,3,5]).bind(inverteLista_maybe))"
   ]
  },
  {
   "cell_type": "code",
   "execution_count": 43,
   "metadata": {},
   "outputs": [
    {
     "name": "stdout",
     "output_type": "stream",
     "text": [
      "15\n",
      "15.0\n",
      "15.0\n",
      "120\n",
      "120\n",
      "120\n",
      "True\n",
      "True\n",
      "False\n",
      "False\n",
      "False\n",
      "True\n",
      "False\n",
      "False\n",
      "True\n",
      "True\n",
      "[5, 3, 1]\n"
     ]
    }
   ],
   "source": [
    "#1 exercicio\n",
    "print (soma_nat(5))\n",
    "\n",
    "print (soma_nat_lambda(5))\n",
    "\n",
    "print(Just(5).bind(soma_nat_maybe))\n",
    "\n",
    "#2 exercicio\n",
    "print (prod_lista([1,2,3,4,5]))\n",
    "\n",
    "print (prod_lista_lambda([1,2,3,4,5])) \n",
    "\n",
    "print (Just([1,2,3,4,5]).bind(soma_list_maybe))\n",
    "\n",
    "#3 exercicio\n",
    "print (parQ([2,3,1,2,3,4]))\n",
    "print (parQ([1,3,5,7]))\n",
    "print (parQ([1,3,5,7,9]))\n",
    "\n",
    "print (parQ_lambda([1,2,3,4,5]))\n",
    "\n",
    "print(Just([1,2,3,4,5]).bind(parQ_maybe))\n",
    "\n",
    "#4 exercicio\n",
    "print (todos_imparesQ([1,3,5,7]))\n",
    "print (todos_imparesQ([]))\n",
    "print (todos_imparesQ([1,2,3,4,5]))\n",
    "\n",
    "print (todos_imparesQ_lambda([1,3,5]))\n",
    "\n",
    "print(Just([1,3,5]).bind(todos_imparesQ_maybe))\n",
    "\n",
    "#5 exercicio\n",
    "\n",
    "print(Just([1,3,5]).bind(inverteLista_maybe))"
   ]
  },
  {
   "cell_type": "code",
   "execution_count": null,
   "metadata": {},
   "outputs": [],
   "source": []
  }
 ],
 "metadata": {
  "kernelspec": {
   "display_name": "Python 3",
   "language": "python",
   "name": "python3"
  },
  "language_info": {
   "codemirror_mode": {
    "name": "ipython",
    "version": 3
   },
   "file_extension": ".py",
   "mimetype": "text/x-python",
   "name": "python",
   "nbconvert_exporter": "python",
   "pygments_lexer": "ipython3",
   "version": "3.6.5"
  }
 },
 "nbformat": 4,
 "nbformat_minor": 2
}

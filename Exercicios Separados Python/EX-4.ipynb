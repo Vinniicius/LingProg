{
 "cells": [
  {
   "cell_type": "markdown",
   "metadata": {},
   "source": [
    "### EX: 4"
   ]
  },
  {
   "cell_type": "code",
   "execution_count": 1,
   "metadata": {},
   "outputs": [
    {
     "name": "stdout",
     "output_type": "stream",
     "text": [
      "True\n",
      "False\n",
      "False\n",
      "True\n",
      "True\n"
     ]
    }
   ],
   "source": [
    "#Funcao\n",
    "def todos_imparesQ(lista):\n",
    "    retorno = False\n",
    "    for i in lista:\n",
    "        \n",
    "        if i%2 > 0:\n",
    "            retorno = True\n",
    "        else:\n",
    "            retorno = False\n",
    "            break\n",
    "    return retorno\n",
    "\n",
    "\n",
    "#lambda\n",
    "todos_imparesQ_lambda = lambda lista: True if len([x for x in lista if x % 2 != 0])==len(lista) else False\n",
    "\n",
    "#Maybe monad\n",
    "def todos_imparesQ_maybe(lista):\n",
    "    return True if len([x for x in lista if x % 2 != 0])==len(lista) else False\n",
    "\n",
    "class Just:\n",
    "    \n",
    "    def __init__(self,lista):\n",
    "        \n",
    "        self.lista = lista\n",
    "    def bind(self,fnc):\n",
    "        try:\n",
    "            return Just(fnc(self.lista))\n",
    "        except:\n",
    "            return Nothing()\n",
    "        \n",
    "    def __repr__(self):\n",
    "        \n",
    "        return str(self.lista)\n",
    "class Nothing:\n",
    "    \n",
    "    def bind(self,fnc):\n",
    "        \n",
    "        return Nothing()\n",
    "    \n",
    "    def __repr__(self):\n",
    "        \n",
    "        return 'Nothing'\n",
    "    \n",
    "#4 exercicio\n",
    "print (todos_imparesQ([1,3,5,7]))\n",
    "print (todos_imparesQ([]))\n",
    "print (todos_imparesQ([1,2,3,4,5]))\n",
    "\n",
    "print (todos_imparesQ_lambda([1,3,5]))\n",
    "\n",
    "print(Just([1,3,5]).bind(todos_imparesQ_maybe))"
   ]
  },
  {
   "cell_type": "code",
   "execution_count": null,
   "metadata": {},
   "outputs": [],
   "source": []
  }
 ],
 "metadata": {
  "kernelspec": {
   "display_name": "Python 3",
   "language": "python",
   "name": "python3"
  },
  "language_info": {
   "codemirror_mode": {
    "name": "ipython",
    "version": 3
   },
   "file_extension": ".py",
   "mimetype": "text/x-python",
   "name": "python",
   "nbconvert_exporter": "python",
   "pygments_lexer": "ipython3",
   "version": "3.6.5"
  }
 },
 "nbformat": 4,
 "nbformat_minor": 2
}

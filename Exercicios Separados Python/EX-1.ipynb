{
 "cells": [
  {
   "cell_type": "markdown",
   "metadata": {},
   "source": [
    "### EX: 1"
   ]
  },
  {
   "cell_type": "code",
   "execution_count": 1,
   "metadata": {},
   "outputs": [
    {
     "name": "stdout",
     "output_type": "stream",
     "text": [
      "15\n",
      "15.0\n",
      "15.0\n"
     ]
    }
   ],
   "source": [
    "#funcao\n",
    "def soma_nat(n):\n",
    "    soma = 0\n",
    "    while(n > 0):\n",
    "        soma = soma + n\n",
    "        n = n - int(1)\n",
    "    return soma\n",
    "\n",
    "\n",
    "#lambda\n",
    "soma_nat_lambda = lambda end: ((end)/2) * (end+1)\n",
    "\n",
    "\n",
    "#Maybe monad\n",
    "def soma_nat_maybe(end):\n",
    "    return ((end)/2) * (end+1)\n",
    "\n",
    "class Just:\n",
    "    \n",
    "    def __init__(self,end):\n",
    "        \n",
    "        self.end = end\n",
    "    def bind(self,fnc):\n",
    "        try:\n",
    "            return Just(fnc(self.end))\n",
    "        except:\n",
    "            return Nothing()\n",
    "        \n",
    "    def __repr__(self):\n",
    "        \n",
    "        return str(self.end)\n",
    "class Nothing:\n",
    "    \n",
    "    def bind(self,fnc):\n",
    "        \n",
    "        return Nothing()\n",
    "    \n",
    "    def __repr__(self):\n",
    "        \n",
    "        return 'Nothing'\n",
    "    \n",
    "    \n",
    "\n",
    "print (soma_nat(5))\n",
    "\n",
    "print (soma_nat_lambda(5))\n",
    "\n",
    "print(Just(5).bind(soma_nat_maybe))"
   ]
  },
  {
   "cell_type": "code",
   "execution_count": null,
   "metadata": {},
   "outputs": [],
   "source": []
  }
 ],
 "metadata": {
  "kernelspec": {
   "display_name": "Python 3",
   "language": "python",
   "name": "python3"
  },
  "language_info": {
   "codemirror_mode": {
    "name": "ipython",
    "version": 3
   },
   "file_extension": ".py",
   "mimetype": "text/x-python",
   "name": "python",
   "nbconvert_exporter": "python",
   "pygments_lexer": "ipython3",
   "version": "3.6.5"
  }
 },
 "nbformat": 4,
 "nbformat_minor": 2
}

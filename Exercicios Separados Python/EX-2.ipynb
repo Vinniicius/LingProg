{
 "cells": [
  {
   "cell_type": "markdown",
   "metadata": {},
   "source": [
    "### EX: 2"
   ]
  },
  {
   "cell_type": "code",
   "execution_count": 3,
   "metadata": {},
   "outputs": [
    {
     "name": "stdout",
     "output_type": "stream",
     "text": [
      "120\n",
      "120\n",
      "120\n"
     ]
    }
   ],
   "source": [
    "#funcao\n",
    "def prod_lista(lista):\n",
    "    soma = 1\n",
    "    for i in lista:\n",
    "        soma = soma * i\n",
    "    return soma\n",
    "\n",
    "#lambda\n",
    "import operator\n",
    "from functools import reduce\n",
    "prod_lista_lambda = lambda x: reduce(operator.mul, x, 1)\n",
    "\n",
    "\n",
    "#Maybe monad\n",
    "def soma_list_maybe(x):\n",
    "    return reduce(operator.mul, x, 1)\n",
    "\n",
    "class Just:\n",
    "    \n",
    "    def __init__(self,x):\n",
    "        \n",
    "        self.x = x\n",
    "    def bind(self,fnc):\n",
    "        try:\n",
    "            return Just(fnc(self.x))\n",
    "        except:\n",
    "            return Nothing()\n",
    "        \n",
    "    def __repr__(self):\n",
    "        \n",
    "        return str(self.x)\n",
    "class Nothing:\n",
    "    \n",
    "    def bind(self,fnc):\n",
    "        \n",
    "        return Nothing()\n",
    "    \n",
    "    def __repr__(self):\n",
    "        \n",
    "        return 'Nothing'\n",
    "    \n",
    "print (prod_lista([1,2,3,4,5]))\n",
    "\n",
    "print (prod_lista_lambda([1,2,3,4,5])) \n",
    "\n",
    "print (Just([1,2,3,4,5]).bind(soma_list_maybe))"
   ]
  },
  {
   "cell_type": "code",
   "execution_count": null,
   "metadata": {},
   "outputs": [],
   "source": []
  },
  {
   "cell_type": "code",
   "execution_count": null,
   "metadata": {},
   "outputs": [],
   "source": []
  }
 ],
 "metadata": {
  "kernelspec": {
   "display_name": "Python 3",
   "language": "python",
   "name": "python3"
  },
  "language_info": {
   "codemirror_mode": {
    "name": "ipython",
    "version": 3
   },
   "file_extension": ".py",
   "mimetype": "text/x-python",
   "name": "python",
   "nbconvert_exporter": "python",
   "pygments_lexer": "ipython3",
   "version": "3.6.5"
  }
 },
 "nbformat": 4,
 "nbformat_minor": 2
}
